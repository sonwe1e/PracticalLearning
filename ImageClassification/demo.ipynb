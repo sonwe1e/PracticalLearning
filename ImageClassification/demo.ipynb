{
 "cells": [
  {
   "cell_type": "code",
   "execution_count": null,
   "metadata": {},
   "outputs": [],
   "source": [
    "import torchvision\n",
    "import torch\n",
    "transform = torchvision.transforms.Compose([torchvision.transforms.Resize((64, 64)), torchvision.transforms.ToTensor()])\n",
    "model = torchvision.models.resnet18()\n",
    "ckpt = torch.load('./src/ch.ckpt', map_location='cpu')['state_dict']\n",
    "for k in list(ckpt.keys()):\n",
    "    ckpt[k[6:]] = ckpt.pop(k)\n",
    "model.load_state_dict(ckpt)\n",
    "model.eval()\n",
    "\n",
    "from dataset import *"
   ]
  }
 ],
 "metadata": {
  "kernelspec": {
   "display_name": "cv2d",
   "language": "python",
   "name": "python3"
  },
  "language_info": {
   "codemirror_mode": {
    "name": "ipython",
    "version": 3
   },
   "file_extension": ".py",
   "mimetype": "text/x-python",
   "name": "python",
   "nbconvert_exporter": "python",
   "pygments_lexer": "ipython3",
   "version": "3.10.13"
  }
 },
 "nbformat": 4,
 "nbformat_minor": 2
}
