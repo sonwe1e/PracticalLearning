{
 "cells": [
  {
   "cell_type": "code",
   "execution_count": 7,
   "metadata": {},
   "outputs": [],
   "source": [
    "import os\n",
    "import glob\n",
    "from PIL import Image"
   ]
  },
  {
   "cell_type": "code",
   "execution_count": 35,
   "metadata": {},
   "outputs": [],
   "source": [
    "txt_list = glob.glob(\"./datasets/txt_train/*\")\n",
    "for txt in txt_list:\n",
    "    image = Image.open(txt.replace(\"txt_train\", \"images\").replace(\"txt\", \"jpg\"))\n",
    "    with open(txt, \"r\") as f:\n",
    "        lines = f.readlines()\n",
    "    with open(txt.replace(\"txt_train\", \"labels\"), \"w\") as f:\n",
    "        for line in lines:\n",
    "            line = line.strip().split(\",\")[:9]\n",
    "            x = line[:-1:2]\n",
    "            y = line[1::2]\n",
    "            x_center = (float(min(x)) + float(max(x))) / 2 / image.size[0]\n",
    "            y_center = (float(min(y)) + float(max(y))) / 2 / image.size[1]\n",
    "            width = abs(float(max(x)) - float(min(x))) / image.size[0]\n",
    "            height = abs(float(max(y)) - float(min(y))) / image.size[1]\n",
    "            if width * height > 0.01:\n",
    "                f.write(f\"0 {x_center} {y_center} {width} {height}\\n\")"
   ]
  },
  {
   "cell_type": "code",
   "execution_count": 30,
   "metadata": {},
   "outputs": [
    {
     "data": {
      "text/plain": [
       "'./dataset/labels/TB1hy8xo26H8KJjSspmXXb2WXXa_!!0-item_pic.jpg.txt'"
      ]
     },
     "execution_count": 30,
     "metadata": {},
     "output_type": "execute_result"
    }
   ],
   "source": [
    "txt.replace(\"txt_train\", \"labels\")"
   ]
  },
  {
   "cell_type": "code",
   "execution_count": null,
   "metadata": {},
   "outputs": [],
   "source": []
  }
 ],
 "metadata": {
  "kernelspec": {
   "display_name": "cv2d",
   "language": "python",
   "name": "python3"
  },
  "language_info": {
   "codemirror_mode": {
    "name": "ipython",
    "version": 3
   },
   "file_extension": ".py",
   "mimetype": "text/x-python",
   "name": "python",
   "nbconvert_exporter": "python",
   "pygments_lexer": "ipython3",
   "version": "3.10.12"
  }
 },
 "nbformat": 4,
 "nbformat_minor": 2
}
