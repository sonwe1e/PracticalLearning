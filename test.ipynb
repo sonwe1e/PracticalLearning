{
 "cells": [
  {
   "cell_type": "code",
   "execution_count": 8,
   "metadata": {},
   "outputs": [
    {
     "name": "stderr",
     "output_type": "stream",
     "text": [
      "/tmp/ipykernel_74580/1074074487.py:4: UserWarning: torch.range is deprecated and will be removed in a future release because its behavior is inconsistent with Python's range builtin. Instead, use torch.arange, which produces values in [start, end).\n",
      "  style = torch.range(1, 4).reshape(2, 1, 2, 1, 1)\n"
     ]
    },
    {
     "data": {
      "text/plain": [
       "tensor([[[[[1., 1., 1.],\n",
       "           [1., 1., 1.],\n",
       "           [1., 1., 1.]],\n",
       "\n",
       "          [[2., 2., 2.],\n",
       "           [2., 2., 2.],\n",
       "           [2., 2., 2.]]]],\n",
       "\n",
       "\n",
       "\n",
       "        [[[[3., 3., 3.],\n",
       "           [3., 3., 3.],\n",
       "           [3., 3., 3.]],\n",
       "\n",
       "          [[4., 4., 4.],\n",
       "           [4., 4., 4.],\n",
       "           [4., 4., 4.]]]]])"
      ]
     },
     "execution_count": 8,
     "metadata": {},
     "output_type": "execute_result"
    }
   ],
   "source": [
    "import torch\n",
    "\n",
    "weight = torch.ones(1, 1, 2, 3, 3) # 1, out_channels, in_channels, kernel_size, kernel_size\n",
    "style = torch.range(1, 4).reshape(2, 1, 2, 1, 1)\n",
    "R = weight * style\n",
    "R"
   ]
  },
  {
   "cell_type": "code",
   "execution_count": 4,
   "metadata": {},
   "outputs": [],
   "source": [
    "s = s.replace('\\n', ' ')"
   ]
  },
  {
   "cell_type": "code",
   "execution_count": 5,
   "metadata": {},
   "outputs": [
    {
     "data": {
      "text/plain": [
       "'In this paper, we will focus on an efficient deep neural  network architecture for computer vision, codenamed In ception, which derives its name from the Network in net work paper by Lin et al [12] in conjunction with the famous  “we need to go deeper” internet meme [1]. In our case, the  word “deep” is used in two different meanings: first of all,  in the sense that we introduce a new level of organization  in the form of the “Inception module” and also in the more  direct sense of increased network depth. In general, one can  view the Inception model as a logical culmination of [12]  while taking inspiration and guidance from the theoretical  work by Arora et al [2]. The benefits of the architecture are  experimentally verified on the ILSVRC 2014 classification  and detection challenges, where it significantly outperforms  the current state of the art.'"
      ]
     },
     "execution_count": 5,
     "metadata": {},
     "output_type": "execute_result"
    }
   ],
   "source": [
    "s"
   ]
  },
  {
   "cell_type": "code",
   "execution_count": null,
   "metadata": {},
   "outputs": [],
   "source": []
  }
 ],
 "metadata": {
  "kernelspec": {
   "display_name": "cv2d",
   "language": "python",
   "name": "python3"
  },
  "language_info": {
   "codemirror_mode": {
    "name": "ipython",
    "version": 3
   },
   "file_extension": ".py",
   "mimetype": "text/x-python",
   "name": "python",
   "nbconvert_exporter": "python",
   "pygments_lexer": "ipython3",
   "version": "3.10.13"
  }
 },
 "nbformat": 4,
 "nbformat_minor": 2
}
