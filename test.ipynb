{
 "cells": [
  {
   "cell_type": "code",
   "execution_count": 2,
   "metadata": {},
   "outputs": [],
   "source": [
    "import cv2\n",
    "import numpy as np\n",
    "\n",
    "mnist = np.load(\"../Dataset/MNIST/mnist.npz\")\n",
    "x_train, y_train = mnist[\"x_train\"], mnist[\"y_train\"]\n",
    "x_test, y_test = mnist[\"x_test\"], mnist[\"y_test\"]\n",
    "index = 1\n",
    "for image, label in zip(x_train, y_train):\n",
    "    cv2.imwrite(f\"../Dataset/MNIST/images/{index:05d}_{label}.jpg\", image)\n",
    "    index += 1\n",
    "for image, label in zip(x_test, y_test):\n",
    "    cv2.imwrite(f\"../Dataset/MNIST/images/{index:05d}_{label}.jpg\", image)\n",
    "    index += 1"
   ]
  },
  {
   "cell_type": "code",
   "execution_count": null,
   "metadata": {},
   "outputs": [],
   "source": []
  }
 ],
 "metadata": {
  "kernelspec": {
   "display_name": "cv2d",
   "language": "python",
   "name": "python3"
  },
  "language_info": {
   "codemirror_mode": {
    "name": "ipython",
    "version": 3
   },
   "file_extension": ".py",
   "mimetype": "text/x-python",
   "name": "python",
   "nbconvert_exporter": "python",
   "pygments_lexer": "ipython3",
   "version": "3.10.12"
  }
 },
 "nbformat": 4,
 "nbformat_minor": 2
}
