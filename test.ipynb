{
 "cells": [
  {
   "cell_type": "code",
   "execution_count": 1,
   "metadata": {},
   "outputs": [],
   "source": []
  },
  {
   "cell_type": "code",
   "execution_count": 4,
   "metadata": {},
   "outputs": [],
   "source": [
    "s = s.replace('\\n', ' ')"
   ]
  },
  {
   "cell_type": "code",
   "execution_count": 5,
   "metadata": {},
   "outputs": [
    {
     "data": {
      "text/plain": [
       "'In this paper, we will focus on an efficient deep neural  network architecture for computer vision, codenamed In ception, which derives its name from the Network in net work paper by Lin et al [12] in conjunction with the famous  “we need to go deeper” internet meme [1]. In our case, the  word “deep” is used in two different meanings: first of all,  in the sense that we introduce a new level of organization  in the form of the “Inception module” and also in the more  direct sense of increased network depth. In general, one can  view the Inception model as a logical culmination of [12]  while taking inspiration and guidance from the theoretical  work by Arora et al [2]. The benefits of the architecture are  experimentally verified on the ILSVRC 2014 classification  and detection challenges, where it significantly outperforms  the current state of the art.'"
      ]
     },
     "execution_count": 5,
     "metadata": {},
     "output_type": "execute_result"
    }
   ],
   "source": [
    "s"
   ]
  },
  {
   "cell_type": "code",
   "execution_count": null,
   "metadata": {},
   "outputs": [],
   "source": []
  }
 ],
 "metadata": {
  "kernelspec": {
   "display_name": "cv2d",
   "language": "python",
   "name": "python3"
  },
  "language_info": {
   "codemirror_mode": {
    "name": "ipython",
    "version": 3
   },
   "file_extension": ".py",
   "mimetype": "text/x-python",
   "name": "python",
   "nbconvert_exporter": "python",
   "pygments_lexer": "ipython3",
   "version": "3.10.13"
  }
 },
 "nbformat": 4,
 "nbformat_minor": 2
}
